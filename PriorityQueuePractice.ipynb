{
 "cells": [
  {
   "cell_type": "code",
   "execution_count": null,
   "metadata": {},
   "outputs": [],
   "source": [
    "import queue\n",
    "import random\n",
    "import string\n",
    "string.ascii_letters\n",
    "\n",
    "q=queue.PriorityQueue()\n",
    "#generates id number, credit hours, and email address for 10 students\n",
    "def main():\n",
    "    outfile = open('students.txt','w')\n",
    "    for x in range(10):\n",
    "        Email =  random.choice(string.ascii_letters)\n",
    "        outfile.write(str(Email)+'@gmail.com'+'\\n')\n",
    "        CRED = random.randint(3,18)\n",
    "        outfile.write(str(CRED)+'\\n')\n",
    "        ID = x+100000\n",
    "        outfile.write('900'+str(ID)+'\\n')\n",
    "\n",
    "    outfile.close()  \n",
    "\n",
    "  \n",
    "    #reads file contents into tuple\n",
    "    infile=open('students.txt','r')\n",
    "    mail = infile.readline().rstrip()\n",
    "    while mail !='':\n",
    "        Credit=infile.readline().rstrip()\n",
    "        ID=infile.readline().rstrip()\n",
    "        q.put((mail,Credit,ID))\n",
    "        \n",
    "    mail = infile.readline().rstrip()\n",
    "    #formats and displays content as a table\n",
    "    format_string='{mail:<20}{Credit:<4}{ID:<15}'\n",
    "    print (format_string.format(mail='mail',Credit='Credit',ID='900#'))\n",
    "    while not q.empty():\n",
    "        next_item = q.get()\n",
    "        print(format_string.format(mail=next_item[0],Credit=next_item[2],ID=next_item[3]))\n",
    "\n",
    "main()\n"
   ]
  }
 ],
 "metadata": {
  "kernelspec": {
   "display_name": "Python 3",
   "language": "python",
   "name": "python3"
  },
  "language_info": {
   "codemirror_mode": {
    "name": "ipython",
    "version": 3
   },
   "file_extension": ".py",
   "mimetype": "text/x-python",
   "name": "python",
   "nbconvert_exporter": "python",
   "pygments_lexer": "ipython3",
   "version": "3.8.3"
  }
 },
 "nbformat": 4,
 "nbformat_minor": 4
}
